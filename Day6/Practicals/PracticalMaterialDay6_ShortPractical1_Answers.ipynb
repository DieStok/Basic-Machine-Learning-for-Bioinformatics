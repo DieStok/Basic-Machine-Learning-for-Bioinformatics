{
 "cells": [
  {
   "cell_type": "markdown",
   "id": "c037a62d",
   "metadata": {},
   "source": [
    "## Morning practical 1 day 6\n",
    "\n",
    "Last week you traded some of your precious little time on this planet to painstakingly implement gradient descent for linear regression , logistic regression and neural networks yourself. Or you attempted to. Turns out ~that's a sucker's game~ that's unnecessary, because extremely cool and knowledgeable people have already put together a whole library that implements all sorts of ML algorithms, which allows you to train classifiers with very little code. This library is [scikit-learn](https://scikit-learn.org/stable/index.html). Here you will learn how to work with it. Rather than re-inventing the wheel, I will assign you specific parts of an excellent online tutorial to follow, interspersed with one exercise here. If you cannot grasp parts of the online tutorial, please let me know. Note that, for the tutorial I link to, answers are always available on the next page, so you should look for them there rather than here if you are stuck. "
   ]
  },
  {
   "cell_type": "code",
   "execution_count": 17,
   "id": "fe4e5138",
   "metadata": {},
   "outputs": [],
   "source": [
    "#run this cell to set things up\n",
    "import ipywidgets as widgets, numpy as np, pandas as pd\n",
    "from numpy.random import default_rng\n",
    "%matplotlib inline\n",
    "import matplotlib.pyplot as plt\n",
    "import math\n",
    "import seaborn as sns\n",
    "from IPython.display import display, Markdown\n",
    "import sklearn\n",
    "import itertools\n",
    "from sklearn.datasets import make_blobs"
   ]
  },
  {
   "cell_type": "code",
   "execution_count": 15,
   "id": "05a25711",
   "metadata": {},
   "outputs": [],
   "source": [
    "# Used to make the train and test set. None of your concern!\n",
    "\n",
    "# from sklearn.model_selection import train_test_split\n",
    "# censusData = pd.read_csv(\"adult-census-numeric.csv\")\n",
    "# X_train, X_test = train_test_split(censusData, test_size = 0.2, random_state = 42, stratify = censusData[\"class\"])\n",
    "\n",
    "# X_test.to_csv(\"adult-census-numeric-test.csv\")\n",
    "# X_train.to_csv(\"adult-census-numeric.csv\")"
   ]
  },
  {
   "cell_type": "markdown",
   "id": "6a48b0dc",
   "metadata": {},
   "source": [
    "## The first simple sklearn steps\n",
    "\n",
    "Go [here]() and follow the steps. Note that, for us, the data is directly in the working directory (so use `pd.read_csv('adult-census-data.csv')`). Over to you:"
   ]
  },
  {
   "cell_type": "code",
   "execution_count": null,
   "id": "5d7fe94f",
   "metadata": {},
   "outputs": [],
   "source": [
    "# your answer here"
   ]
  },
  {
   "cell_type": "markdown",
   "id": "91389944",
   "metadata": {},
   "source": [
    "## Step 2\n",
    "\n",
    "Just continue on with the second step of the tutorial [here](https://inria.github.io/scikit-learn-mooc/python_scripts/02_numerical_pipeline_ex_00.html) where you see how to instantiate classifiers differently."
   ]
  },
  {
   "cell_type": "code",
   "execution_count": null,
   "id": "3cf1fe7f",
   "metadata": {},
   "outputs": [],
   "source": [
    "# your answer here"
   ]
  },
  {
   "cell_type": "markdown",
   "id": "724eebd4",
   "metadata": {},
   "source": [
    "## Step 3\n",
    "\n",
    "Now, you will use scaling to scale the numerical features, and also combine the training and scaling in a _pipeline_. This is very important: when scaling with a train and a test set, you want to apply the scaling only to the train set, and then use its mean and variance to transform the test set. Otherwise, you use some characteristics of the test set to train your classifier (embedded in the information in the mean and variance) and your generalisation error will not be as independent as you want it to be.\n",
    "\n",
    "Go [here](https://inria.github.io/scikit-learn-mooc/python_scripts/02_numerical_pipeline_scaling.html)"
   ]
  },
  {
   "cell_type": "code",
   "execution_count": null,
   "id": "aeb7d750",
   "metadata": {},
   "outputs": [],
   "source": [
    "# your answer here"
   ]
  },
  {
   "cell_type": "markdown",
   "id": "cf75641b",
   "metadata": {},
   "source": [
    "## Consolidating what you've learned so far\n",
    "\n",
    "Let's now switch to a small local assignment. It is up to you to implement linear regression (with and without regularisation) on the California housing dataset, which you'll have to import from sklearn by searching for it in their documentation. **You will probably need to import some modules from sklearn**.\n",
    "\n",
    "* Load the California housing dataset (look in [sklearn.datasets](https://scikit-learn.org/stable/modules/classes.html#module-sklearn.datasets)).\n",
    "* Print exactly what the targets mean (what are the units of what you're predicting?), what the number of samples is, and use `DataFrame.describe()` to see the mean and distribution of the features (you'll need to convert to a DataFrame for that, using `pd.DataFrame()`).\n",
    "* Split the normalised data into train and test sets ( 80%, 20%, look [here](https://scikit-learn.org/stable/modules/generated/sklearn.model_selection.train_test_split.html)).\n",
    "* Normalise both features and the target to have zero mean and unit variance. Use [StandardScaler](https://scikit-learn.org/stable/modules/preprocessing.html#standardization-or-mean-removal-and-variance-scaling). You've just learned about pipelines for correctly 'fitting' your scaling to the train set and then applying it with the 'learned' mean and variance on the test set. **Use this!**\n",
    "* Train linear regression without regularisation, and test on the test set. Print the $R^2$ (use `.score`). Also print the learned parameters/weights (use `.coef_`).\n",
    "* Train linear regression with L2 regularisation (penalising the sum of squares of the parameters). This is called Ridge regression. Set its $\\lambda$ (which is confusingly called alpha) to 250.  Test on the test set and print the $R^2$ (use `.score`). Also print the learned parameters/weights (use `.coef_`).\n",
    "\n",
    "\n",
    "Hints:\n",
    "* It seems like a lot of steps, but it's all mostly one-liners in scikit-learn.\n",
    "* Search the documentation for the right predictor or functionality. Look for Ridge regression and/or linear regression  on the scikit-learn page and you will find what you need. You'll have to learn to navigate it anyway!\n",
    "* If you get some dimensionality problems, do exactly what the error message says and your problems will melt away.\n",
    "* If you don't know what $R^2$ is, see [this](https://www.youtube.com/watch?v=2AQKmw14mHM)."
   ]
  },
  {
   "cell_type": "code",
   "execution_count": 28,
   "id": "e1fe0eaa",
   "metadata": {},
   "outputs": [
    {
     "name": "stdout",
     "output_type": "stream",
     "text": [
      "The target variable is the median house value for California districts, expressed in hundreds of thousands of dollars ($100,000).\n",
      "Number of samples: 20640\n"
     ]
    },
    {
     "data": {
      "text/html": [
       "<div>\n",
       "<style scoped>\n",
       "    .dataframe tbody tr th:only-of-type {\n",
       "        vertical-align: middle;\n",
       "    }\n",
       "\n",
       "    .dataframe tbody tr th {\n",
       "        vertical-align: top;\n",
       "    }\n",
       "\n",
       "    .dataframe thead th {\n",
       "        text-align: right;\n",
       "    }\n",
       "</style>\n",
       "<table border=\"1\" class=\"dataframe\">\n",
       "  <thead>\n",
       "    <tr style=\"text-align: right;\">\n",
       "      <th></th>\n",
       "      <th>0</th>\n",
       "      <th>1</th>\n",
       "      <th>2</th>\n",
       "      <th>3</th>\n",
       "      <th>4</th>\n",
       "      <th>5</th>\n",
       "      <th>6</th>\n",
       "      <th>7</th>\n",
       "    </tr>\n",
       "  </thead>\n",
       "  <tbody>\n",
       "    <tr>\n",
       "      <th>count</th>\n",
       "      <td>20640.000000</td>\n",
       "      <td>20640.000000</td>\n",
       "      <td>20640.000000</td>\n",
       "      <td>20640.000000</td>\n",
       "      <td>20640.000000</td>\n",
       "      <td>20640.000000</td>\n",
       "      <td>20640.000000</td>\n",
       "      <td>20640.000000</td>\n",
       "    </tr>\n",
       "    <tr>\n",
       "      <th>mean</th>\n",
       "      <td>3.870671</td>\n",
       "      <td>28.639486</td>\n",
       "      <td>5.429000</td>\n",
       "      <td>1.096675</td>\n",
       "      <td>1425.476744</td>\n",
       "      <td>3.070655</td>\n",
       "      <td>35.631861</td>\n",
       "      <td>-119.569704</td>\n",
       "    </tr>\n",
       "    <tr>\n",
       "      <th>std</th>\n",
       "      <td>1.899822</td>\n",
       "      <td>12.585558</td>\n",
       "      <td>2.474173</td>\n",
       "      <td>0.473911</td>\n",
       "      <td>1132.462122</td>\n",
       "      <td>10.386050</td>\n",
       "      <td>2.135952</td>\n",
       "      <td>2.003532</td>\n",
       "    </tr>\n",
       "    <tr>\n",
       "      <th>min</th>\n",
       "      <td>0.499900</td>\n",
       "      <td>1.000000</td>\n",
       "      <td>0.846154</td>\n",
       "      <td>0.333333</td>\n",
       "      <td>3.000000</td>\n",
       "      <td>0.692308</td>\n",
       "      <td>32.540000</td>\n",
       "      <td>-124.350000</td>\n",
       "    </tr>\n",
       "    <tr>\n",
       "      <th>25%</th>\n",
       "      <td>2.563400</td>\n",
       "      <td>18.000000</td>\n",
       "      <td>4.440716</td>\n",
       "      <td>1.006079</td>\n",
       "      <td>787.000000</td>\n",
       "      <td>2.429741</td>\n",
       "      <td>33.930000</td>\n",
       "      <td>-121.800000</td>\n",
       "    </tr>\n",
       "    <tr>\n",
       "      <th>50%</th>\n",
       "      <td>3.534800</td>\n",
       "      <td>29.000000</td>\n",
       "      <td>5.229129</td>\n",
       "      <td>1.048780</td>\n",
       "      <td>1166.000000</td>\n",
       "      <td>2.818116</td>\n",
       "      <td>34.260000</td>\n",
       "      <td>-118.490000</td>\n",
       "    </tr>\n",
       "    <tr>\n",
       "      <th>75%</th>\n",
       "      <td>4.743250</td>\n",
       "      <td>37.000000</td>\n",
       "      <td>6.052381</td>\n",
       "      <td>1.099526</td>\n",
       "      <td>1725.000000</td>\n",
       "      <td>3.282261</td>\n",
       "      <td>37.710000</td>\n",
       "      <td>-118.010000</td>\n",
       "    </tr>\n",
       "    <tr>\n",
       "      <th>max</th>\n",
       "      <td>15.000100</td>\n",
       "      <td>52.000000</td>\n",
       "      <td>141.909091</td>\n",
       "      <td>34.066667</td>\n",
       "      <td>35682.000000</td>\n",
       "      <td>1243.333333</td>\n",
       "      <td>41.950000</td>\n",
       "      <td>-114.310000</td>\n",
       "    </tr>\n",
       "  </tbody>\n",
       "</table>\n",
       "</div>"
      ],
      "text/plain": [
       "                  0             1             2             3             4  \\\n",
       "count  20640.000000  20640.000000  20640.000000  20640.000000  20640.000000   \n",
       "mean       3.870671     28.639486      5.429000      1.096675   1425.476744   \n",
       "std        1.899822     12.585558      2.474173      0.473911   1132.462122   \n",
       "min        0.499900      1.000000      0.846154      0.333333      3.000000   \n",
       "25%        2.563400     18.000000      4.440716      1.006079    787.000000   \n",
       "50%        3.534800     29.000000      5.229129      1.048780   1166.000000   \n",
       "75%        4.743250     37.000000      6.052381      1.099526   1725.000000   \n",
       "max       15.000100     52.000000    141.909091     34.066667  35682.000000   \n",
       "\n",
       "                  5             6             7  \n",
       "count  20640.000000  20640.000000  20640.000000  \n",
       "mean       3.070655     35.631861   -119.569704  \n",
       "std       10.386050      2.135952      2.003532  \n",
       "min        0.692308     32.540000   -124.350000  \n",
       "25%        2.429741     33.930000   -121.800000  \n",
       "50%        2.818116     34.260000   -118.490000  \n",
       "75%        3.282261     37.710000   -118.010000  \n",
       "max     1243.333333     41.950000   -114.310000  "
      ]
     },
     "metadata": {},
     "output_type": "display_data"
    },
    {
     "name": "stdout",
     "output_type": "stream",
     "text": [
      "Feature means: [ 3.88075426e+00  2.86082849e+01  5.43523502e+00  1.09668475e+00\n",
      "  1.42645300e+03  3.09696119e+00  3.56431492e+01 -1.19582290e+02]\n",
      "Feature std: [1.90423626e+00 1.26021177e+01 2.38730258e+00 4.33201426e-01\n",
      " 1.13702195e+03 1.15783935e+01 2.13660060e+00 2.00559281e+00]\n",
      "The slight mismatch in std between pandas and the scaler is probably\n",
      "in the way the standard deviation is calculated (either divided by n or by n-1)\n",
      "-----------------\n",
      "Scaled targets:\n",
      "[-0.90118909  1.5127714  -0.29921255 ...  0.12891731  0.65997132\n",
      "  1.01890847]\n",
      "Normal linear regression:\n",
      "Train R^2: 0.6125511913966952\n",
      "Test R^2 : 0.5757877060324508\n",
      "Learned Parameters: [ 0.73896341  0.10599132 -0.25463792  0.29342852 -0.00199597 -0.03531345\n",
      " -0.77576169 -0.75233381]\n",
      "\n",
      "Ridge regression:\n",
      "Train R^2: 0.6095500954891035\n",
      "Test R^2 : 0.578570346954401\n",
      "Learned Parameters: [ 0.72428058  0.11893239 -0.21282161  0.24324927  0.00223993 -0.03575305\n",
      " -0.64360591 -0.61806988]\n",
      "\n",
      "You see that you perform slightly worse on the train set, but ever so slightly better on the train set, with Ridge regression. In different situations the effect can be (much) larger\n"
     ]
    }
   ],
   "source": [
    "from sklearn import datasets\n",
    "# your answer here\n",
    "\n",
    "\n",
    "\n",
    "\n",
    "\n",
    "# answer \n",
    "\n",
    "# Note, I didn't use a pipeline, I manually transform the test set here. You should use a pipeline, as you've learned!\n",
    "\n",
    "#answer\n",
    "import sklearn\n",
    "from sklearn import datasets\n",
    "from sklearn.model_selection import train_test_split\n",
    "from sklearn import preprocessing\n",
    "from sklearn.linear_model import LinearRegression\n",
    "from sklearn.linear_model import Ridge\n",
    "\n",
    "featuresHousing, targetsHousing = sklearn.datasets.fetch_california_housing(return_X_y = True)\n",
    "\n",
    "#see here: https://scikit-learn.org/stable/datasets/real_world.html#california-housing-dataset \n",
    "print(\"The target variable is the median house value for California districts, expressed in hundreds of thousands of dollars ($100,000).\")\n",
    "print(\"Number of samples: \" + str(len(featuresHousing)))\n",
    "display(pd.DataFrame(featuresHousing).describe())\n",
    "\n",
    "#split\n",
    "featsHouseTrain, featsHouseTest, targetsHouseTrain, targetsHouseTest = train_test_split(featuresHousing, targetsHousing,\n",
    "                                                                                        random_state = 42,                                                                                        test_size = 0.2)\n",
    "#normalise\n",
    "#for this transformer, fitting means 'calculate the means and variances with which to perform the scaling'\n",
    "scalerFeats = preprocessing.StandardScaler().fit(featsHouseTrain)\n",
    "print(\"Feature means: \" + str(scalerFeats.mean_))\n",
    "print(\"Feature std: \" + str(scalerFeats.scale_))\n",
    "print(\"The slight mismatch in std between pandas and the scaler is probably\\nin the way the standard deviation is calculated (either divided by n or by n-1)\")\n",
    "#transforming is where we actually take the original features, remove the means, and divide by the standard deviation.\n",
    "scaledFeatsTrain, scaledFeatsTest = scalerFeats.transform(featsHouseTrain), scalerFeats.transform(featsHouseTest)\n",
    "\n",
    "#ow for the targets\n",
    "#reshape because the error message told me to: StandardScalar wants columns with values over which to perform.\n",
    "scalerTargets = preprocessing.StandardScaler().fit(targetsHouseTrain.reshape(-1,1))\n",
    "scaledTargetsTrain, scaledTargetsTest = scalerTargets.transform(targetsHouseTrain.reshape(-1,1)), scalerTargets.transform(targetsHouseTest.reshape(-1,1))\n",
    "#make targets 1D again\n",
    "scaledTargetsTrain, scaledTargetsTest = np.ravel(scaledTargetsTrain), np.ravel(scaledTargetsTest)\n",
    "\n",
    "print(\"-----------------\")\n",
    "print(\"Scaled targets:\")\n",
    "print(scaledTargetsTrain)\n",
    "\n",
    "#fit normal linear regression\n",
    "linearRegressor             = LinearRegression().fit(scaledFeatsTrain, scaledTargetsTrain)\n",
    "scoresLinearRegressionTrain = linearRegressor.score(scaledFeatsTrain, scaledTargetsTrain)\n",
    "scoresLinearRegressionTest  = linearRegressor.score(scaledFeatsTest, scaledTargetsTest)\n",
    "print(\"Normal linear regression:\")\n",
    "print(\"Train R^2: \" + str(scoresLinearRegressionTrain))\n",
    "print(\"Test R^2 : \"  + str(scoresLinearRegressionTest))\n",
    "print(\"Learned Parameters: \" + str(linearRegressor.coef_) + \"\\n\")\n",
    "\n",
    "#L2 Regularised:\n",
    "linearRegressorRidge             = Ridge(alpha = 250).fit(scaledFeatsTrain, scaledTargetsTrain)\n",
    "scoresLinearRegressionRidgeTrain = linearRegressorRidge.score(scaledFeatsTrain, scaledTargetsTrain)\n",
    "scoresLinearRegressionRidgeTest  = linearRegressorRidge.score(scaledFeatsTest, scaledTargetsTest)\n",
    "print(\"Ridge regression:\")\n",
    "print(\"Train R^2: \" + str(scoresLinearRegressionRidgeTrain))\n",
    "print(\"Test R^2 : \" + str(scoresLinearRegressionRidgeTest))\n",
    "print(\"Learned Parameters: \" + str(linearRegressorRidge.coef_) + \"\\n\")\n",
    "\n",
    "print(\"You see that you perform slightly worse on the train set, but ever so slightly better on the train set, with Ridge regression. In different situations the effect can be (much) larger\")"
   ]
  },
  {
   "cell_type": "markdown",
   "id": "7dc51e7b",
   "metadata": {},
   "source": [
    "## Moving on to cross-validation\n",
    "\n",
    "Now go to the part of the tutorial on doing cross-validation in scikit-learn [here](https://inria.github.io/scikit-learn-mooc/python_scripts/02_numerical_pipeline_cross_validation.html). This is where the power of the pipeline _really_ kicks in: to do a correct cross-validation, you have to normalise the training data on the k-1 folds, and then use the mean and variance of those folds to scale the k-th fold. A pipeline takes care of all this for you."
   ]
  },
  {
   "cell_type": "code",
   "execution_count": null,
   "id": "d8f2df1e",
   "metadata": {},
   "outputs": [],
   "source": [
    "# your answer here"
   ]
  },
  {
   "cell_type": "markdown",
   "id": "a716d2e0",
   "metadata": {},
   "source": [
    "## Optimising hyperparameters with GridSearch\n",
    "\n",
    "First let's make sure that you understand how to use grid search, which is the brute-force way of optimising  hyperparameters by just training a classifier for every possible combination of them (from a set you give), and then selecting the combination that performs best. Follow [this part](https://inria.github.io/scikit-learn-mooc/python_scripts/parameter_tuning_grid_search.html) of the tutorial to use the grid search function and do a bit more sophisticated pre-processing."
   ]
  },
  {
   "cell_type": "code",
   "execution_count": null,
   "id": "56adbd1c",
   "metadata": {},
   "outputs": [],
   "source": [
    "# your answer here"
   ]
  },
  {
   "cell_type": "markdown",
   "id": "1689e5df",
   "metadata": {},
   "source": [
    "## Nested cross-validation\n",
    "\n",
    "Above, you used the naive approach to optimising hyperparameters. The tutorial already warned that this is not completely correct. I already told you what is correct: the heading of this text block. Make sure you understand the explanation below, then move on to [this part](https://inria.github.io/scikit-learn-mooc/python_scripts/cross_validation_nested.html) of the tutorial to implement correct hyperparameter selection for a model. After this, you're done and know enough of the basics to get going.\n",
    "\n",
    "**Hyperparameter optimisation and nested cross-validation** <br>\n",
    "Let's say we want to pick our learning rate. The naive approach would be to try 5 learning rates (say 0.001, 0.01, 0.1, 1, 10). You could, in your cross-validation, train 5 classifiers on each fold, one with each learning rate, and look at their average performance on the test folds. Then you could pick the $\\alpha$ that's best and be done with it. **That's wrong**. This is because you pick which learning rate is best based on how it performs on the test set: so you're choosing the hyperparameters that do best on your 'unseen' test set, and then reporting that average performance. You will hence be overconfident!\n",
    "\n",
    "So what to do? Well: nested-cross validation. You make k-1 folds to train on. _Within_ those k-1 folds, you _again_ divide into folds, say l folds. You train 5 classifiers on each of the l-1 folds, one for each value of $\\alpha$. Then you test on the l-th fold. The $\\alpha$ that perform best on average is the one you pick from among these sub-folds. Then, you move one level up again, and train using that alpha on the whole _upper_ fold of size k-1, and test using it on the k-th fold. Here is an image to further clarify:\n",
    "<img src=\"nested-crossval.png\" alt=\"Drawing\" style=\"width: 760px;\"/>\n",
    "\n",
    "In the end, the whole goal is simple: you want to pick your hyperparameters based on _one_ unseen part of the data, and then measure your generalisation performance on some _other_ unseen part of the data that the hyperparameters were not fitted to, so you don't get a positive bias of your generalisation potential. \n",
    "\n",
    "**Picking final hyperparameters for your full model** <br>\n",
    "Now there's one little detail: this means you end up with k folds that were each, potentially, trained with different hyperparameters. Perhaps on fold 3, an $\\alpha$ of 0.01 was best, but on fold 5 one of 0.001 was best. For your _final model_ you could then pick either the hyperparameter that is picked in most of you k folds, or you could take an average.\n",
    "\n",
    "Remember: you're supposed to go [here](https://inria.github.io/scikit-learn-mooc/python_scripts/cross_validation_nested.html)."
   ]
  },
  {
   "cell_type": "code",
   "execution_count": null,
   "id": "4d18f4f4",
   "metadata": {},
   "outputs": [],
   "source": [
    "# your answer here"
   ]
  },
  {
   "cell_type": "markdown",
   "id": "e9f5706e",
   "metadata": {},
   "source": [
    "## Note on dimensionality reduction and pipelines\n",
    "\n",
    "As I showed in the lectures, you can think of dimensionality reduction as just another part of preprocessing of your data, which should _also_ be performed in a pipeline: You dimension-reduce the training samples, transform the test samples to be in that feature space, and then predict. You could even try different scaling algorithms, and see _which_ scaling algorithm to use as a hyperparameter, just as _which model_ you use (say logistic regression or a tree-based model) is, in fact, a hyperparameter. See one of my last slides for an example of implementing nested hyperparameter optimalisation using different dimensionality reduction tools, (and also trying different parameters _in_ these different dimensionality reduction tools). **This would be a _huge_ headache if you had to do it yourself, but pipelines take care of it for you!**"
   ]
  },
  {
   "cell_type": "markdown",
   "id": "81bea8de",
   "metadata": {},
   "source": [
    "## What I want you to remember here:\n",
    "* Some practical skills: how sklearn models work (`.fit()`, `.predict`, etc.); how to make sure scaling is combined correctly with cross-validation or even nested-cross validation using a pipeline; how to perform nested cross-validation.\n",
    "* That [this tutorial](https://inria.github.io/scikit-learn-mooc/index.html) exists, so that you can use it to look up things you want more information on during the project.\n",
    "* Use those pipelines!\n",
    "\n",
    "## Extra resource\n",
    "[Here's a guy who goes through all the stuff you've done here in a youtube video](https://www.youtube.com/watch?v=XvnkUg1yVmk) where you can see what he's doing and hear why."
   ]
  },
  {
   "cell_type": "markdown",
   "id": "6a8f7a6c",
   "metadata": {},
   "source": [
    "## Survey\n",
    "Doubting whether or not to fill out the survey? I'll let my friends Shia LaBeouf and Schmoyoho [do the talking for me](https://youtu.be/UhRXn2NRiWI?t=45).\n",
    "\n",
    "[Much survey, so wow](https://docs.google.com/forms/d/e/1FAIpQLSdmRCFUfpeYNch2V4sQInGoM2liJ15XGYxNmWoBpc5QX3kIqw/viewform?usp=sf_link)"
   ]
  }
 ],
 "metadata": {
  "kernelspec": {
   "display_name": "Python 3",
   "language": "python",
   "name": "python3"
  },
  "language_info": {
   "codemirror_mode": {
    "name": "ipython",
    "version": 3
   },
   "file_extension": ".py",
   "mimetype": "text/x-python",
   "name": "python",
   "nbconvert_exporter": "python",
   "pygments_lexer": "ipython3",
   "version": "3.8.8"
  }
 },
 "nbformat": 4,
 "nbformat_minor": 5
}

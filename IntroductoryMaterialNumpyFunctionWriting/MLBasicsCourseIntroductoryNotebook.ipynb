{
 "cells": [
  {
   "attachments": {},
   "cell_type": "markdown",
   "metadata": {},
   "source": [
    "# **Introductory Jupyter notebook**\n",
    "Hi there! Welcome to this short introductory Jupyter notebook. The purpose of this notebook is to quickly introduce the way the practicals in the course will work, while also introducing you to some Numpy features. In this course, I often ask you to write functions that take specific inputs and produce specific outputs. Some of you may be used to this functional programming, while others are more familiar with scripting or coding as you go. The Introduction to Python course doesn't spend a huge amount of time on making functions (as far as I know), so this refresher might be useful. In the previous edition of the course some students thought learning ML stuff _and_ adapting to this functional style was a bit much, so this introductory notebook is to aid you **_if you need it_**. \n",
    "\n",
    "[Here](https://defkey.com/jupyter-notebook-shortcuts) are some Jupyter notebook keyboard shortcuts. "
   ]
  },
  {
   "cell_type": "code",
   "execution_count": null,
   "metadata": {},
   "outputs": [],
   "source": [
    "#run this cell to set things up\n",
    "import numpy as np\n",
    "import seaborn as sns"
   ]
  },
  {
   "attachments": {},
   "cell_type": "markdown",
   "metadata": {},
   "source": [
    "## Loading in some data\n",
    "Below, load in `SampleData1.csv` into the variable `my_awesome_data` using the `np.loadtxt()` function ([documentation](https://numpy.org/doc/stable/reference/generated/numpy.loadtxt.html)). Make sure to set `encoding='utf-8-sig'`. Print the data, and compute the average and standard deviation of all the values. Look for the Numpy functions to use using your favourite search engine (:\n",
    "\n",
    "**If you have never worked with Numpy at all:** please read [this](https://numpy.org/doc/stable/user/absolute_beginners.html). "
   ]
  },
  {
   "cell_type": "code",
   "execution_count": null,
   "metadata": {},
   "outputs": [],
   "source": [
    "#your answer here\n"
   ]
  },
  {
   "attachments": {},
   "cell_type": "markdown",
   "metadata": {},
   "source": [
    "## Working along the axes\n",
    "Okay great. You get only one value out for the average and standard deviation. That's because the default behaviour flattens the array. Maybe you want the average per row or per column. And what does flattening mean? Let's investigate.  \n",
    "Below:\n",
    "* print `my_awesome_data.shape`\n",
    "* print `my_awesome_data.flatten()` and `my_awesome_data.flatten().shape`\n",
    "* print `np.array([my_awesome_data.flatten(), np.newaxis]).shape`\n",
    "* print `my_awesome_data.flatten()[:, np.newaxis]` and try to figure out what is going on by a) changing around the : and np.newaxis and b) printing the shape of the resulting array.\n",
    "* Calculate the average and standard deviation over the rows of `my_awesome_data` by looking at the `axis` argument of the numpy functions used to calculate them.\n",
    "* Finally, use `np.reshape()` to turn the flattened array back into the correct 3 by 3 matrix of numbers. Compare what happens when you use (3,3) and (3,-1) and (-1, 3) for the shape, and explain why this happens. Documentation is [here](https://numpy.org/doc/stable/reference/generated/numpy.reshape.html)\n",
    "\n"
   ]
  },
  {
   "cell_type": "code",
   "execution_count": null,
   "metadata": {},
   "outputs": [],
   "source": [
    "#your answer here\n",
    "\n"
   ]
  },
  {
   "attachments": {},
   "cell_type": "markdown",
   "metadata": {},
   "source": [
    "## Summing that up\n",
    "\n",
    "What you should see is that flatten makes a set of numbers into a 1D array, with dimensions (n_numbers, ). However, if we want a table, i.e. a 2D array, we can make it by adding another axis to the data. Then, for instance, the 9-number array has dimension  (1,9), for 1 row, nine numbers. Now, you could append another row below by using `np.concatenate((my_awesome_data.flatten()[np.newaxis, :], my_awesome_data.flatten()[np.newaxis, :]))`. You don't have to do too much with this information, except that you know that Numpy uses axes to determine what 'shape' numbers are in, and we might sometimes want to change the shape. Things can break down if numbers are not both in 2D arrays when you want to combine them into a bigger table, and then you need to know what might be going on, namely: mismatched shapes."
   ]
  },
  {
   "attachments": {},
   "cell_type": "markdown",
   "metadata": {},
   "source": [
    "## Working with functions\n",
    "\n",
    "The bread and butter of this course will be me asking you to write a specific function, and you thanklessly slaving away to satisfy these inane desires. Such is life. Let's practice this!\n",
    "\n",
    "Remember, a function in Python is defined using the def keyword, along with arguments (and optionally their standard values). Below, I give an example function definition of a highly useful function. Make sure you understand what is going on."
   ]
  },
  {
   "cell_type": "code",
   "execution_count": null,
   "metadata": {},
   "outputs": [],
   "source": [
    "def myFunc(some_number, some_other_number, a_string_for_good_measure=\"String theory is not about me *cries in 17 dimensions*\", printit = True):\n",
    "    if printit: print(\"Testing 1, 2, 3:\")\n",
    "    if not isinstance(some_number, (int, float)) or not isinstance(some_other_number, (int,float)):\n",
    "        print(\"Error, numbers should be numbers, man.\")\n",
    "        return\n",
    "    the_sum = some_number + some_other_number\n",
    "    if printit: print(f'Sum of numbers: {the_sum}')\n",
    "    if printit: print(a_string_for_good_measure.split(\" \"))\n",
    "    return the_sum\n",
    "\n",
    "a_sum = myFunc(12, 3)\n",
    "print(\"\\n\")\n",
    "a_mistake = myFunc(\"whoopsie\", 4)\n",
    "a_sum_two_electric_boogaloo = myFunc(15, 3, printit=False)\n",
    "print(a_sum)\n",
    "print(a_mistake)\n",
    "print(a_sum_two_electric_boogaloo)\n"
   ]
  },
  {
   "attachments": {},
   "cell_type": "markdown",
   "metadata": {},
   "source": [
    "## Making functions\n",
    "\n",
    "Say I want you to make a function `giveMeMyMatrixMan()` that takes in two arguments `shape` and `method`, in that order. Shape is a tuple with 2 values (e.g. `(5, 6)`), method can be either `'zeroes'`, `'ones'`, or `'normal'`. The function should return a matrix/table of dimension shape filled with either all 0s, all 1s, or values drawn from a standard normal distribution, depending on the method argument. If the method argument is something other than the three possibilities, the function should say so and return nothing (specifically: `None`). If the method argument is not given, it should default to the normally distributed values.\n",
    "\n",
    "How do you tackle this? Well, the easiest way is to start by just defining variables and doing the operations necessary, and only then turning it all into a function. For instance, you could define `shape = (3,4)` and `method = 'normal'`, and then write the desired behaviour using an if-statement for method and the correct Numpy function. Then you can expand this, and finally put everything into a function. As an illustration for zeroes below:"
   ]
  },
  {
   "cell_type": "code",
   "execution_count": null,
   "metadata": {},
   "outputs": [],
   "source": [
    "shape = (3,4)\n",
    "method = 'zeroes'\n",
    "if not isinstance(shape, tuple):\n",
    "    print(\"Wrong argument type! shape should be a tuple with 2 values\")\n",
    "if not len(shape) == 2:\n",
    "    print(\"Wrong # of dimensions! Only 2D array supported. Change the shape tuple!\")\n",
    "if not isinstance(method, str) or not method in [\"zeroes\", \"ones\", \"normal\"]:\n",
    "    print(\"Wrong method value, should be str and one of [zeroes, ones, normal] \")\n",
    "if method == \"zeroes\":\n",
    "    result = np.zeros(shape)\n",
    "print(result)\n",
    "print(\"\\n\")\n",
    "\n",
    "#if you would only want the function to do this one thing:\n",
    "\n",
    "def giveMeMyZeroMatrixMan(shape, method='zeroes'):\n",
    "    if not isinstance(shape, tuple):\n",
    "        print(\"Wrong argument type! shape should be a tuple with 2 values\")\n",
    "        return\n",
    "    if not len(shape) == 2:\n",
    "        print(\"Wrong # of dimensions! Only 2D array supported. Change the shape tuple!\")\n",
    "        return\n",
    "    if not isinstance(method, str) or not method in [\"zeroes\", \"ones\", \"normal\"]:\n",
    "        print(\"Wrong method value, should be str and one of [zeroes, ones, normal]\")\n",
    "        return\n",
    "    if method == \"zeroes\":\n",
    "        result = np.zeros(shape)\n",
    "    else:\n",
    "        result = None\n",
    "    return result\n",
    "\n",
    "print(giveMeMyZeroMatrixMan((2,8)))\n",
    "print(\"\\n\")\n",
    "print(giveMeMyZeroMatrixMan((2,8), method = 'normal'))\n",
    "print(\"\\n\")\n",
    "print(giveMeMyZeroMatrixMan((2,8), method = 'DastardlyDeviouslyWrongMethodString'))"
   ]
  },
  {
   "attachments": {},
   "cell_type": "markdown",
   "metadata": {},
   "source": [
    "## Truly up to you now!\n",
    "\n",
    "Implement the function that can also give you a matrix of values drawn from a normal distribution and a matrix of ones. Test it by running `print(giveMeMyMatrixMan((6,5)))`.\n",
    "\n",
    "**Note:** I went a bit far in checking the arguments. More of the function consists of that than of actual function calls. During the course you won't have to be so strict, but do keep in mind the maxim 'Fail early'. Check that things are as they should be and if not make sure to fail. It will protect you from arcane errors down the line!"
   ]
  },
  {
   "cell_type": "code",
   "execution_count": null,
   "metadata": {},
   "outputs": [],
   "source": [
    "# your answer here"
   ]
  },
  {
   "attachments": {},
   "cell_type": "markdown",
   "metadata": {},
   "source": [
    "## Sum of squares\n",
    "\n",
    "Say you have a linear regression where you are predicting life satisfaction (which is, obviously, a measurable continuous variable from 0-100) based on the number of guitars you have stored away in your parents' attic (a continuous value if ever there was one, I have 3.79 stowed away myself). Write a function that can take in a 1D array of predicted values and a 1D array of true values, and calculate the sum of squares error term for the predictions (that is, the sum of the square of the difference between the predicted values and the true values). If you want to check whether something is an array, use `np.ndarray`. If you want to check the dimensionality of an array you can use the `.ndim` property. So:\n",
    "* Make `mySSEFunction(predicted, target)` which returns a tuple of two numbers, the SSE between predicted and target, and the mean-squared error (MSE): `(SSE, MSE)`.\n",
    "* Test it with the provided arrays. The result should be (111, 22.2)."
   ]
  },
  {
   "cell_type": "code",
   "execution_count": null,
   "metadata": {},
   "outputs": [],
   "source": [
    "testPred   = np.array([25, 50, 54, 80, 92])\n",
    "testTarget = np.array([30, 47, 50, 74, 97])\n",
    "\n",
    "# Your function here\n",
    "\n",
    "\n",
    "#uncomment when done\n",
    "#print(mySSEFunction(testPred, testTarget))"
   ]
  },
  {
   "attachments": {},
   "cell_type": "markdown",
   "metadata": {},
   "source": [
    "## Broadcasting\n",
    "\n",
    "Let's look at a nice feature of Numpy: broadcasting. If you have a 3 by 4 matrix and a 3 by 1 column, you might expect that Numpy doesn't know how to multiply these. But it does, because it automatically _broadcasts_. It will assume that what you want is to multiply each of the columns in the 3 by 4 matrix with the same 3 by 1 column. See below and read up on it [here](https://www.tutorialspoint.com/numpy/numpy_broadcasting.htm)."
   ]
  },
  {
   "cell_type": "code",
   "execution_count": null,
   "metadata": {},
   "outputs": [],
   "source": [
    "mat_norm1 = np.random.normal(size = (3,4))\n",
    "mat_norm2 = np.random.normal(size = (3,1))\n",
    "print(mat_norm1.shape)\n",
    "print(mat_norm1)\n",
    "print(mat_norm2.shape)\n",
    "print(mat_norm2)\n",
    "\n",
    "print(mat_norm1 * mat_norm2)"
   ]
  },
  {
   "attachments": {},
   "cell_type": "markdown",
   "metadata": {},
   "source": [
    "## Find the coordinates of the maximum and minimum value in a matrix\n",
    "\n",
    "This is a more difficult final task to see how you get on with more minimal instructions. In principle practical exercises during the course should be explained in more detail, so just try this and see how you get on. If you don't manage or need to spend a long time: just skip it! You already have some idea of what Numpy can do and that's fine as a basis. Remember to use search engines to your advantage during the course (:\n",
    "\n",
    "Write a function `getMaxMinCoords` that returns the coordinates of the maximum and minimum element in a `numpy.ndarray` with 2 or more dimensions as a tuple of tuples. That is, if it is a 2D array, you will get something like `((coord1_max, coord2_max), (coord1_min, coord2_min))`. Here `coord1_max` would be like the row-index of the maximal number in the 2D array, and `coord2_max` the column-index. If there's no unique maximum or minimum element, _the function should fail, return `None`, and tell you so_. Be sure to search through the documentation of Numpy and Stackoverflow for this one!\n",
    "Let's not make it too arduous a search: check out `np.argmax()` and the examples on its documentation page (: Good luck!"
   ]
  },
  {
   "cell_type": "code",
   "execution_count": null,
   "metadata": {},
   "outputs": [],
   "source": [
    "test_mat_one = np.random.normal(loc = 50, scale = 5, size = (5,5))\n",
    "test_mat_two = np.zeros_like(test_mat_one)\n",
    "test_mat_three = np.random.normal(loc = 50, scale = 5, size = (3, 3, 3)) #this is a cube of values.\n",
    "test_1D_array = np.array([42, 42, 42])\n",
    "\n",
    "\n",
    "# Your function here\n",
    "\n",
    "\n",
    "\n",
    "# Tests (uncomment once your function is done)\n",
    "\n",
    "# print(test_mat_one)\n",
    "# print(getMaxMinCoords(test_mat_one))\n",
    "# print(\"\\n\")\n",
    "# print(test_mat_two)\n",
    "# print(getMaxMinCoords(test_mat_two))\n",
    "# print(\"\\n\")\n",
    "# print(test_mat_three)\n",
    "# print(getMaxMinCoords(test_mat_three))\n"
   ]
  },
  {
   "attachments": {},
   "cell_type": "markdown",
   "metadata": {},
   "source": [
    "## Final words\n",
    "\n",
    "This was a very basic (can you feel those hydroxide ions deep inside?) introduction to the type of practicals you'll be doing during the course: using Numpy and writing functions yourself. Of course, we will be applying that to ML problems instead of random Numpy functionality. To get a bit of an overview of ML before we get started, I highly recommend scanning [this](https://www.nature.com/articles/s41580-021-00407-0). If that doesn't work, try [this](https://rdcu.be/c6jAm). If that doesn't work you have been blessed by whatever deity you'd prefer and can skip this completely. You can skip this completely anyway since it's an optional thing to read before the course starts, but that'll be our secret. "
   ]
  }
 ],
 "metadata": {
  "kernelspec": {
   "display_name": "base",
   "language": "python",
   "name": "python3"
  },
  "language_info": {
   "codemirror_mode": {
    "name": "ipython",
    "version": 3
   },
   "file_extension": ".py",
   "mimetype": "text/x-python",
   "name": "python",
   "nbconvert_exporter": "python",
   "pygments_lexer": "ipython3",
   "version": "3.9.12"
  },
  "vscode": {
   "interpreter": {
    "hash": "ece01b9860ccbf107746ff1896624c399184ed0a8602a95125aa3de2311131c7"
   }
  }
 },
 "nbformat": 4,
 "nbformat_minor": 2
}

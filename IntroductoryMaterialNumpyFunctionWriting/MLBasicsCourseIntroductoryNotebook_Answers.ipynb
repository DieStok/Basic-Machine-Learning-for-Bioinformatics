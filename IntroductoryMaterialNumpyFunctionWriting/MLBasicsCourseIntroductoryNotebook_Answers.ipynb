{
 "cells": [
  {
   "attachments": {},
   "cell_type": "markdown",
   "metadata": {},
   "source": [
    "# **Introductory Jupyter notebook**\n",
    "Hi there! Welcome to this short introductory Jupyter notebook. The purpose of this notebook is to quickly introduce the way the practicals in the course will work, while also introducing you to some Numpy features. In this course, I often ask you to write functions that take specific inputs and produce specific outputs. Some of you may be used to this functional programming, while others are more familiar with scripting or coding as you go. The Introduction to Python course doesn't spend a huge amount of time on making functions (as far as I know), so this refresher might be useful. In the previous edition of the course some students thought learning ML stuff _and_ adapting to this functional style was a bit much, so this introductory notebook is to aid you **_if you need it_**. \n",
    "\n",
    "[Here](https://defkey.com/jupyter-notebook-shortcuts) are some Jupyter notebook keyboard shortcuts. "
   ]
  },
  {
   "cell_type": "code",
   "execution_count": 2,
   "metadata": {},
   "outputs": [],
   "source": [
    "#run this cell to set things up\n",
    "import numpy as np\n",
    "import seaborn as sns"
   ]
  },
  {
   "attachments": {},
   "cell_type": "markdown",
   "metadata": {},
   "source": [
    "## Loading in some data\n",
    "Below, load in `SampleData1.csv` into the variable `my_awesome_data` using the `np.loadtxt()` function ([documentation](https://numpy.org/doc/stable/reference/generated/numpy.loadtxt.html)). Make sure to set `encoding='utf-8-sig'`. Print the data, and compute the average and standard deviation of all the values. Look for the Numpy functions to use using your favourite search engine (:\n",
    "\n",
    "**If you have never worked with Numpy at all:** please read [this](https://numpy.org/doc/stable/user/absolute_beginners.html). "
   ]
  },
  {
   "cell_type": "code",
   "execution_count": 7,
   "metadata": {},
   "outputs": [
    {
     "name": "stdout",
     "output_type": "stream",
     "text": [
      "[[ 12.    55.     6.  ]\n",
      " [  2.95  88.    12.  ]\n",
      " [180.     4.     3.  ]]\n",
      "56.65660259214234\n",
      "40.327777777777776\n"
     ]
    }
   ],
   "source": [
    "#your answer here\n",
    "\n",
    "#answer\n",
    "\n",
    "my_awesome_data = np.loadtxt(\"SampleData1.csv\", delimiter=',', encoding='utf-8-sig')\n",
    "print(my_awesome_data)\n",
    "print(np.std(my_awesome_data))\n",
    "print(np.average(my_awesome_data))"
   ]
  },
  {
   "attachments": {},
   "cell_type": "markdown",
   "metadata": {},
   "source": [
    "## Working along the axes\n",
    "Okay great. You get only one value out for the average and standard deviation. That's because the default behaviour flattens the array. Maybe you want the average per row or per column. And what does flattening mean? Let's investigate.   \n",
    "Below:\n",
    "* print `my_awesome_data.shape`\n",
    "* print `my_awesome_data.flatten()` and `my_awesome_data.flatten().shape`\n",
    "* print `np.array([my_awesome_data.flatten(), np.newaxis]).shape`\n",
    "* print `my_awesome_data.flatten()[:, np.newaxis]` and try to figure out what is going on by a) changing around the : and np.newaxis and b) printing the shape of the resulting array.\n",
    "* Calculate the average and standard deviation over the rows of `my_awesome_data` by looking at the `axis` argument of the numpy functions used to calculate them.\n",
    "* Finally, use `np.reshape()` to turn the flattened array back into the correct 3 by 3 matrix of numbers. Compare what happens when you use (3,3) and (3,-1) and (-1, 3) for the shape, and explain why this happens. Documentation is [here](https://numpy.org/doc/stable/reference/generated/numpy.reshape.html)\n",
    "\n"
   ]
  },
  {
   "cell_type": "code",
   "execution_count": 73,
   "metadata": {},
   "outputs": [
    {
     "name": "stdout",
     "output_type": "stream",
     "text": [
      "(3, 3)\n",
      "[ 12.    55.     6.     2.95  88.    12.   180.     4.     3.  ]\n",
      "(9,)\n",
      "\n",
      "\n",
      "[[ 12.  ]\n",
      " [ 55.  ]\n",
      " [  6.  ]\n",
      " [  2.95]\n",
      " [ 88.  ]\n",
      " [ 12.  ]\n",
      " [180.  ]\n",
      " [  4.  ]\n",
      " [  3.  ]]\n",
      "(9, 1)\n",
      "\n",
      "\n",
      "[[ 12.    55.     6.     2.95  88.    12.   180.     4.     3.  ]]\n",
      "(1, 9)\n",
      "\n",
      "\n",
      "[21.8225164  38.13922594 83.20389948]\n",
      "[24.33333333 34.31666667 62.33333333]\n",
      "\n",
      "\n",
      "[[ 12.    55.     6.  ]\n",
      " [  2.95  88.    12.  ]\n",
      " [180.     4.     3.  ]]\n",
      "[[ 12.    55.     6.  ]\n",
      " [  2.95  88.    12.  ]\n",
      " [180.     4.     3.  ]]\n",
      "[[ 12.    55.     6.  ]\n",
      " [  2.95  88.    12.  ]\n",
      " [180.     4.     3.  ]]\n"
     ]
    }
   ],
   "source": [
    "#your answer here\n",
    "\n",
    "#answer\n",
    "print(my_awesome_data.shape)\n",
    "print(my_awesome_data.flatten())\n",
    "print(my_awesome_data.flatten().shape)\n",
    "print(\"\\n\")\n",
    "print(my_awesome_data.flatten()[:, np.newaxis])\n",
    "print(my_awesome_data.flatten()[:, np.newaxis].shape)\n",
    "print(\"\\n\")\n",
    "print(my_awesome_data.flatten()[np.newaxis, :])\n",
    "print(my_awesome_data.flatten()[np.newaxis, :].shape)\n",
    "print(\"\\n\")\n",
    "print(np.std(my_awesome_data, axis = 1))\n",
    "print(np.average(my_awesome_data, axis = 1))\n",
    "print(\"\\n\")\n",
    "print(np.reshape(my_awesome_data.flatten(), (3,3)))\n",
    "print(np.reshape(my_awesome_data.flatten(), (3,-1)))\n",
    "print(np.reshape(my_awesome_data.flatten(), (-1,3)))"
   ]
  },
  {
   "attachments": {},
   "cell_type": "markdown",
   "metadata": {},
   "source": [
    "## Summing that up\n",
    "\n",
    "What you should see is that flatten makes a set of numbers into a 1D array, with dimensions (n_numbers, ). However, if we want a table, i.e. a 2D array, we can make it by adding another axis to the data. Then, for instance, the 9-number array has dimension  (1,9), for 1 row, nine numbers. Now, you could append another row below by using `np.concatenate((my_awesome_data.flatten()[np.newaxis, :], my_awesome_data.flatten()[np.newaxis, :]))`. You don't have to do too much with this information, except that you know that Numpy uses axes to determine what 'shape' numbers are in, and we might sometimes want to change the shape. Things can break down if numbers are not both in 2D arrays when you want to combine them into a bigger table, and then you need to know what might be going on, namely: mismatched shapes."
   ]
  },
  {
   "attachments": {},
   "cell_type": "markdown",
   "metadata": {},
   "source": [
    "## Working with functions\n",
    "\n",
    "The bread and butter of this course will be me asking you to write a specific function, and you thanklessly slaving away to satisfy these inane desires. Such is life. Let's practice this!\n",
    "\n",
    "Remember, a function in Python is defined using the def keyword, along with arguments (and optionally their standard values). Below, I give an example function definition of a highly useful function. Make sure you understand what is going on."
   ]
  },
  {
   "cell_type": "code",
   "execution_count": 91,
   "metadata": {},
   "outputs": [
    {
     "name": "stdout",
     "output_type": "stream",
     "text": [
      "Testing 1, 2, 3:\n",
      "Sum of numbers: 15\n",
      "['String', 'theory', 'is', 'not', 'about', 'me', '*cries', 'in', '17', 'dimensions*']\n",
      "\n",
      "\n",
      "Testing 1, 2, 3:\n",
      "Error, numbers should be numbers, man.\n",
      "15\n",
      "None\n",
      "18\n"
     ]
    }
   ],
   "source": [
    "def myFunc(some_number, some_other_number, a_string_for_good_measure=\"String theory is not about me *cries in 17 dimensions*\", printit = True):\n",
    "    if printit: print(\"Testing 1, 2, 3:\")\n",
    "    if not isinstance(some_number, (int, float)) or not isinstance(some_other_number, (int,float)):\n",
    "        print(\"Error, numbers should be numbers, man.\")\n",
    "        return\n",
    "    the_sum = some_number + some_other_number\n",
    "    if printit: print(f'Sum of numbers: {the_sum}')\n",
    "    if printit: print(a_string_for_good_measure.split(\" \"))\n",
    "    return the_sum\n",
    "\n",
    "a_sum = myFunc(12, 3)\n",
    "print(\"\\n\")\n",
    "a_mistake = myFunc(\"whoopsie\", 4)\n",
    "a_sum_two_electric_boogaloo = myFunc(15, 3, printit=False)\n",
    "print(a_sum)\n",
    "print(a_mistake)\n",
    "print(a_sum_two_electric_boogaloo)\n"
   ]
  },
  {
   "attachments": {},
   "cell_type": "markdown",
   "metadata": {},
   "source": [
    "## Making functions\n",
    "\n",
    "Say I want you to make a function `giveMeMyMatrixMan()` that takes in two arguments `shape` and `method`, in that order. Shape is a tuple with 2 values (e.g. `(5, 6)`), method can be either `'zeroes'`, `'ones'`, or `'normal'`. The function should return a matrix/table of dimension shape filled with either all 0s, all 1s, or values drawn from a standard normal distribution, depending on the method argument. If the method argument is something other than the three possibilities, the function should say so and return nothing (specifically: `None`). If the method argument is not given, it should default to the normally distributed values.\n",
    "\n",
    "How do you tackle this? Well, the easiest way is to start by just defining variables and doing the operations necessary, and only then turning it all into a function. For instance, you could define `shape = (3,4)` and `method = 'normal'`, and then write the desired behaviour using an if-statement for method and the correct Numpy function. Then you can expand this, and finally put everything into a function. As an illustration for zeroes below:"
   ]
  },
  {
   "cell_type": "code",
   "execution_count": 77,
   "metadata": {},
   "outputs": [
    {
     "name": "stdout",
     "output_type": "stream",
     "text": [
      "[[0. 0. 0. 0.]\n",
      " [0. 0. 0. 0.]\n",
      " [0. 0. 0. 0.]]\n",
      "\n",
      "\n",
      "[[0. 0. 0. 0. 0. 0. 0. 0.]\n",
      " [0. 0. 0. 0. 0. 0. 0. 0.]]\n",
      "\n",
      "\n",
      "None\n",
      "\n",
      "\n",
      "wrong method value, should be str and one of [zeroes, ones, normal]\n",
      "None\n"
     ]
    }
   ],
   "source": [
    "shape = (3,4)\n",
    "method = 'zeroes'\n",
    "if not isinstance(shape, tuple):\n",
    "    print(\"Wrong argument type! shape should be a tuple with 2 values\")\n",
    "if not len(shape) == 2:\n",
    "    print(\"Wrong # of dimensions! Only 2D array supported. Change the shape tuple!\")\n",
    "if not isinstance(method, str) or not method in [\"zeroes\", \"ones\", \"normal\"]:\n",
    "    print(\"Wrong method value, should be str and one of [zeroes, ones, normal] \")\n",
    "if method == \"zeroes\":\n",
    "    result = np.zeros(shape)\n",
    "print(result)\n",
    "print(\"\\n\")\n",
    "\n",
    "#if you would only want the function to do this one thing:\n",
    "\n",
    "def giveMeMyZeroMatrixMan(shape, method='zeroes'):\n",
    "    if not isinstance(shape, tuple):\n",
    "        print(\"Wrong argument type! shape should be a tuple with 2 values\")\n",
    "        return\n",
    "    if not len(shape) == 2:\n",
    "        print(\"Wrong # of dimensions! Only 2D array supported. Change the shape tuple!\")\n",
    "        return\n",
    "    if not isinstance(method, str) or not method in [\"zeroes\", \"ones\", \"normal\"]:\n",
    "        print(\"Wrong method value, should be str and one of [zeroes, ones, normal]\")\n",
    "        return\n",
    "    if method == \"zeroes\":\n",
    "        result = np.zeros(shape)\n",
    "    else:\n",
    "        result = None\n",
    "    return result\n",
    "\n",
    "print(giveMeMyZeroMatrixMan((2,8)))\n",
    "print(\"\\n\")\n",
    "print(giveMeMyZeroMatrixMan((2,8), method = 'normal'))\n",
    "print(\"\\n\")\n",
    "print(giveMeMyZeroMatrixMan((2,8), method = 'DastardlyDeviouslyWrongMethodString'))"
   ]
  },
  {
   "attachments": {},
   "cell_type": "markdown",
   "metadata": {},
   "source": [
    "## Truly up to you now!\n",
    "\n",
    "Implement the function that can also give you a matrix of values drawn from a normal distribution and a matrix of ones.\n",
    "\n",
    "**Note:** I went a bit far in checking the arguments. More of the function consists of that than of actual function calls. During the course you won't have to be so strict, but do keep in mind the maxim 'Fail early'. Check that things are as they should be and if not make sure to fail. It will protect you from arcane errors down the line!"
   ]
  },
  {
   "cell_type": "code",
   "execution_count": 53,
   "metadata": {},
   "outputs": [
    {
     "name": "stdout",
     "output_type": "stream",
     "text": [
      "[[-0.39713649 -0.37190325  0.29314574  1.65974157  0.07761268]\n",
      " [ 0.45679147 -1.07626194  0.70287955  0.29506072  0.73362069]\n",
      " [-0.21265477  0.6250918   0.18403341 -0.07017311  0.01884878]\n",
      " [ 0.17605861  0.10675803 -0.78691116 -1.12715183  0.29759801]\n",
      " [ 0.2470295   0.604509   -0.27053491 -0.19190343 -0.11028678]\n",
      " [ 1.42279551  1.01549132  1.03847096  0.02842972 -0.27369128]]\n"
     ]
    }
   ],
   "source": [
    "#answer\n",
    "def giveMeMyMatrixMan(shape, method='normal'):\n",
    "    if not isinstance(shape, tuple):\n",
    "        print(\"Wrong argument type! shape should be a tuple with 2 values\")\n",
    "        return\n",
    "    if not len(shape) == 2:\n",
    "        print(\"Wrong # of dimensions! Only 2D array supported. Change the shape tuple!\")\n",
    "        return\n",
    "    if not isinstance(method, str) or not method in [\"zeroes\", \"ones\", \"normal\"]:\n",
    "        print(\"wrong method value, should be str and one of [zeroes, ones, normal]\")\n",
    "        return\n",
    "    if method == \"zeroes\":\n",
    "        result = np.zeros(shape)\n",
    "    if method == \"ones\":\n",
    "        result = np.ones(shape)\n",
    "    else:\n",
    "        result = np.random.normal(size = shape)\n",
    "    return result\n",
    "\n",
    "print(giveMeMyMatrixMan((6,5)))"
   ]
  },
  {
   "attachments": {},
   "cell_type": "markdown",
   "metadata": {},
   "source": [
    "## Sum of squares\n",
    "\n",
    "Say you have a linear regression where you are predicting life satisfaction (which is, obviously, a measurable continuous variable from 0-100) based on the number of guitars you have stored away in your parents' attic (a continuous value if ever there was one, I have 3.79 stowed away myself). Write a function that can take in a 1D array of predicted values and a 1D array of true values, and calculate the sum of squares error term for the predictions (that is, the sum of the square of the difference between the predicted values and the true values). If you want to check whether something is an array, use `np.ndarray`. If you want to check the dimensionality of an array you can use the `.ndim` property. So:\n",
    "* Make `mySSEFunction(predicted, target)` which returns a tuple of two numbers, the SSE between predicted and target, and the mean-squared error (MSE): `(SSE, MSE)`.\n",
    "* Test it with the provided arrays. The result should be (111, 22.2)."
   ]
  },
  {
   "cell_type": "code",
   "execution_count": 92,
   "metadata": {},
   "outputs": [
    {
     "name": "stdout",
     "output_type": "stream",
     "text": [
      "(111, 22.2)\n"
     ]
    }
   ],
   "source": [
    "testPred   = np.array([25, 50, 54, 80, 92])\n",
    "testTarget = np.array([30, 47, 50, 74, 97])\n",
    "\n",
    "\n",
    "#answer\n",
    "def mySSEFunction(predicted, target):\n",
    "    if not isinstance(predicted, np.ndarray) or not isinstance(target, np.ndarray):\n",
    "        print(\"Error: predicted and target should be numpy arrays\")\n",
    "        return\n",
    "    if not predicted.ndim == 1 or not target.ndim == 1:\n",
    "        print(\"Error, should be 1D arrays\")\n",
    "        return\n",
    "    SSE = np.sum(np.square(predicted-target))\n",
    "    MSE = SSE/len(predicted)\n",
    "    return (SSE,MSE)\n",
    "\n",
    "print(mySSEFunction(testPred, testTarget))"
   ]
  },
  {
   "attachments": {},
   "cell_type": "markdown",
   "metadata": {},
   "source": [
    "## Broadcasting\n",
    "\n",
    "Let's look at a nice feature of Numpy: broadcasting. If you have a 3 by 4 matrix and a 3 by 1 column, you might expect that Numpy doesn't know how to multiply these. But it does, because it automatically _broadcasts_. It will assume that what you want is to multiply each of the columns in the 3 by 4 matrix with the same 3 by 1 column. See below and read up on it [here](https://www.tutorialspoint.com/numpy/numpy_broadcasting.htm)."
   ]
  },
  {
   "cell_type": "code",
   "execution_count": 79,
   "metadata": {},
   "outputs": [
    {
     "name": "stdout",
     "output_type": "stream",
     "text": [
      "(3, 4)\n",
      "[[ 0.3871068   0.37315553 -1.14156021 -0.73131438]\n",
      " [ 0.6373373  -2.42829383 -1.42312269  0.4564624 ]\n",
      " [ 2.10510497 -0.13552691 -0.59936639 -0.10755576]]\n",
      "(3, 1)\n",
      "[[-0.34656863]\n",
      " [-1.50159416]\n",
      " [ 1.39565735]]\n",
      "[[-0.13415907 -0.129324    0.39562896  0.25345062]\n",
      " [-0.95702196  3.64631183  2.13695271 -0.68542127]\n",
      " [ 2.93800522 -0.18914913 -0.8365101  -0.15011099]]\n"
     ]
    }
   ],
   "source": [
    "mat_norm1 = np.random.normal(size = (3,4))\n",
    "mat_norm2 = np.random.normal(size = (3,1))\n",
    "print(mat_norm1.shape)\n",
    "print(mat_norm1)\n",
    "print(mat_norm2.shape)\n",
    "print(mat_norm2)\n",
    "\n",
    "print(mat_norm1 * mat_norm2)"
   ]
  },
  {
   "attachments": {},
   "cell_type": "markdown",
   "metadata": {},
   "source": [
    "## Find the coordinates of the maximum and minimum value in a matrix\n",
    "\n",
    "This is a more difficult final task to see how you get on with more minimal instructions. In principle practical exercises during the course should be explained in more detail, so just try this and see how you get on. If you don't manage or need to spend a long time: just skip it! You already have some idea of what Numpy can do and that's fine as a basis. Remember to use search engines to your advantage during the course (:\n",
    "\n",
    "Write a function `getMaxMinCoords` that returns the coordinates of the maximum and minimum element in a `numpy.ndarray` with 2 or more dimensions as a tuple of tuples. That is, if it is a 2D array, you will get something like `((coord1_max, coord2_max), (coord1_min, coord2_min))`. Here `coord1_max` would be like the row-index of the maximal number in the 2D array, and `coord2_max` the column-index. If there's no unique maximum or minimum element, _the function should fail, return `None`, and tell you so_. Be sure to search through the documentation of Numpy and Stackoverflow for this one!\n",
    "Let's not make it too arduous a search: check out `np.argmax()` and the examples on its documentation page (: Good luck!"
   ]
  },
  {
   "cell_type": "code",
   "execution_count": 5,
   "metadata": {},
   "outputs": [
    {
     "name": "stdout",
     "output_type": "stream",
     "text": [
      "[[54.88649843 52.25406948 47.94698762 53.84091259 48.79975653]\n",
      " [42.53457131 55.59573237 50.25012984 57.69765933 51.27240737]\n",
      " [47.04626634 51.2059809  50.8184818  50.40074358 54.76826598]\n",
      " [53.62159934 41.34593975 43.81890194 51.95068754 51.32991015]\n",
      " [45.71324807 44.88329322 55.48508832 45.24026653 57.81584609]]\n",
      "((4, 4), (3, 1))\n",
      "\n",
      "\n",
      "[[0. 0. 0. 0. 0.]\n",
      " [0. 0. 0. 0. 0.]\n",
      " [0. 0. 0. 0. 0.]\n",
      " [0. 0. 0. 0. 0.]\n",
      " [0. 0. 0. 0. 0.]]\n",
      "Warning: no unique maximum or minimum. Returning None\n",
      "None\n",
      "\n",
      "\n",
      "[[[43.40778719 49.29817211 44.82166851]\n",
      "  [50.06342411 50.6318441  51.31804581]\n",
      "  [54.67416142 48.12683628 49.62750411]]\n",
      "\n",
      " [[56.40703201 54.04797184 52.06947554]\n",
      "  [55.36075413 45.86721311 49.57673589]\n",
      "  [52.27148218 55.51186593 43.23216327]]\n",
      "\n",
      " [[56.46975835 42.97429161 52.38738391]\n",
      "  [45.0079269  50.58720171 51.20968592]\n",
      "  [47.60773041 46.73488379 43.78523453]]]\n",
      "((2, 0, 0), (2, 0, 1))\n",
      "Error: only arrays with dim >1 supported. Returning None\n",
      "None\n"
     ]
    }
   ],
   "source": [
    "test_mat_one = np.random.normal(loc = 50, scale = 5, size = (5,5))\n",
    "test_mat_two = np.zeros_like(test_mat_one)\n",
    "test_mat_three = np.random.normal(loc = 50, scale = 5, size = (3, 3, 3)) #this is a cube of values.\n",
    "test_1D_array = np.array([42, 42, 42])\n",
    "\n",
    "\n",
    "# Your function here\n",
    "\n",
    "\n",
    "\n",
    "# Tests (uncomment once your function is done)\n",
    "\n",
    "# print(test_mat_one)\n",
    "# print(getMaxMinCoords(test_mat_one))\n",
    "# print(\"\\n\")\n",
    "# print(test_mat_two)\n",
    "# print(getMaxMinCoords(test_mat_two))\n",
    "# print(\"\\n\")\n",
    "# print(test_mat_three)\n",
    "# print(getMaxMinCoords(test_mat_three))\n",
    "\n",
    "#answer\n",
    "def getMaxMinCoords(array):\n",
    "    if not len(array.shape) >= 2:\n",
    "        print(\"Error: only arrays with dim >1 supported. Returning None\")\n",
    "        return\n",
    "    max_loc = np.unravel_index(np.argmax(array, axis=None), array.shape)\n",
    "    min_loc = np.unravel_index(np.argmin(array, axis=None), array.shape)\n",
    "    #check for duplicates\n",
    "    num_min = np.sum(array == np.min(array))\n",
    "    num_max = np.sum(array == np.max(array))\n",
    "    if num_min > 1 or num_max > 1:\n",
    "        print(\"Warning: no unique maximum or minimum. Returning None\")\n",
    "        return \n",
    "    return (max_loc, min_loc)\n",
    "\n",
    "print(test_mat_one)\n",
    "print(getMaxMinCoords(test_mat_one))\n",
    "print(\"\\n\")\n",
    "print(test_mat_two)\n",
    "print(getMaxMinCoords(test_mat_two))\n",
    "print(\"\\n\")\n",
    "print(test_mat_three)\n",
    "print(getMaxMinCoords(test_mat_three))\n",
    "print(getMaxMinCoords(test_1D_array))"
   ]
  },
  {
   "attachments": {},
   "cell_type": "markdown",
   "metadata": {},
   "source": [
    "## Final words\n",
    "\n",
    "This was a very basic (can you feel those hydroxide ions deep inside?) introduction to the type of practicals you'll be doing during the course: using Numpy and writing functions yourself. Of course, we will be applying that to ML problems instead of random Numpy functionality. To get a bit of an overview of ML before we get started, I highly recommend scanning [this](https://www.nature.com/articles/s41580-021-00407-0). If that doesn't work, try [this](https://rdcu.be/c6jAm). If that doesn't work you have been blessed by whatever deity you'd prefer and can skip this completely. You can skip this completely anyway since it's an optional thing to read before the course starts, but that'll be our secret. "
   ]
  }
 ],
 "metadata": {
  "kernelspec": {
   "display_name": "base",
   "language": "python",
   "name": "python3"
  },
  "language_info": {
   "codemirror_mode": {
    "name": "ipython",
    "version": 3
   },
   "file_extension": ".py",
   "mimetype": "text/x-python",
   "name": "python",
   "nbconvert_exporter": "python",
   "pygments_lexer": "ipython3",
   "version": "3.9.12"
  },
  "vscode": {
   "interpreter": {
    "hash": "ece01b9860ccbf107746ff1896624c399184ed0a8602a95125aa3de2311131c7"
   }
  }
 },
 "nbformat": 4,
 "nbformat_minor": 2
}
